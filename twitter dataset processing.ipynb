{
 "cells": [
  {
   "cell_type": "code",
   "execution_count": 3,
   "metadata": {},
   "outputs": [],
   "source": [
    "import json\n",
    "from datetime import datetime\n",
    "\n",
    "from mysql.connector import Error\n",
    "import mysql.connector as msql\n",
    "from pymongo import MongoClient\n",
    "\n",
    "# filename = 'corona-out-2'\n",
    "filename = 'corona-out-3'"
   ]
  },
  {
   "cell_type": "code",
   "execution_count": null,
   "metadata": {},
   "outputs": [],
   "source": []
  },
  {
   "cell_type": "code",
   "execution_count": 4,
   "metadata": {},
   "outputs": [],
   "source": [
    "conn = msql.connect(host='localhost', user='root', password='Password')\n",
    "cursor = conn.cursor()"
   ]
  },
  {
   "cell_type": "code",
   "execution_count": 5,
   "metadata": {},
   "outputs": [],
   "source": [
    "mconn = MongoClient()"
   ]
  },
  {
   "cell_type": "code",
   "execution_count": 6,
   "metadata": {},
   "outputs": [],
   "source": [
    "def create_mysql_db():\n",
    "            cursor.execute(\"CREATE DATABASE TwitterDB;\")\n",
    "            cursor.execute(\"USE TwitterDB;\")\n",
    "            cursor.execute(\"CREATE TABLE users_data(id varchar(255),name varchar(255),screen_name varchar(255),location varchar(255),url varchar(255),description varchar(255),verified TINYINT,followers_count int,friends_count int,listed_count int,favourites_count int,statuses_count int,created_at int)\")\n",
    "\n",
    "\n",
    "def add_user_to_mysql(user):\n",
    "            sql = \"INSERT INTO TwitterDB.users_data VALUES (%s,%s,%s,%s,%s,%s,%s,%s,%s,%s,%s,%s,%s)\"\n",
    "            cursor.execute(sql, tuple(user.values()))\n",
    "            conn.commit()\n",
    "\n",
    "\n",
    "def check_user_in_mysql(id):\n",
    "    query = f\"SELECT count(*) FROM users_data WHERE id = '{id}';\"\n",
    "    cursor.execute(query)\n",
    "    a=cursor.fetchall()\n",
    "    return a\n",
    "            \n",
    "\n",
    "def add_tweet_to_mongo(tweet):\n",
    "\n",
    "\n",
    "    db = mconn.TwitterDB\n",
    "    collection = db.Tweets\n",
    "    collection.insert_one(tweet)\n",
    "    \n",
    "def add_retweet_to_mongo(retweet):\n",
    "\n",
    "\n",
    "    db = mconn.TwitterDB\n",
    "    collection = db.Retweets\n",
    "    collection.insert_one(retweet)"
   ]
  },
  {
   "cell_type": "code",
   "execution_count": 7,
   "metadata": {},
   "outputs": [],
   "source": [
    "create_mysql_db()"
   ]
  },
  {
   "cell_type": "code",
   "execution_count": null,
   "metadata": {},
   "outputs": [],
   "source": []
  },
  {
   "cell_type": "code",
   "execution_count": null,
   "metadata": {},
   "outputs": [],
   "source": []
  },
  {
   "cell_type": "code",
   "execution_count": 8,
   "metadata": {},
   "outputs": [],
   "source": [
    "def to_timestamp(val):\n",
    "    dt = val.split(' ')\n",
    "    st = f\"{dt[5]}-{dt[1]}-{dt[2]} {dt[3]}\"\n",
    "    dt = datetime.strptime(st, \"%Y-%b-%d %H:%M:%S\")\n",
    "    return int(dt.timestamp())\n",
    "\n",
    "def to_dtstring(val):\n",
    "    return datetime.fromtimestamp(val).strftime('%b %d, %Y - %X')\n",
    "\n",
    "def get_hashtags(data):\n",
    "    hashtags = []\n",
    "    for item in data:\n",
    "        hashtags.append(item['text'])\n",
    "    return hashtags"
   ]
  },
  {
   "cell_type": "code",
   "execution_count": 9,
   "metadata": {},
   "outputs": [],
   "source": [
    "\n",
    "\n",
    "def add_user(user):\n",
    "    if (user['id_str'] not in users):\n",
    "        new_user = {}\n",
    "        \n",
    "        new_user['id'] = user['id_str']\n",
    "        new_user['name'] = user['name']\n",
    "        new_user['screen_name'] = user['screen_name']\n",
    "        new_user['location'] = user['location']\n",
    "        new_user['url'] = user['url']\n",
    "        new_user['description'] = user['description']\n",
    "        new_user['verified'] = user['verified']\n",
    "        new_user['followers_count'] = user['followers_count']\n",
    "        new_user['friends_count'] = user['friends_count']\n",
    "        new_user['listed_count'] = user['listed_count']\n",
    "        new_user['favourites_count'] = user['favourites_count']\n",
    "        new_user['statuses_count'] = user['statuses_count']\n",
    "        new_user['created_at'] = to_timestamp(user['created_at'])\n",
    "        \n",
    "        users[user['id_str']] = new_user\n",
    "        add_user_to_mysql(new_user)\n",
    "\n",
    "\n",
    "def process_tweet(tweet):\n",
    "    new_tweet = {}\n",
    "        \n",
    "    new_tweet['created_at'] = to_timestamp(tweet['created_at'])\n",
    "    new_tweet['id'] = tweet['id_str']\n",
    "    if tweet['truncated']:\n",
    "        new_tweet['text'] = tweet['extended_tweet']['full_text']\n",
    "        new_tweet['hashtags'] = get_hashtags(tweet['extended_tweet']['entities']['hashtags'])\n",
    "    else:\n",
    "        new_tweet['text'] = tweet['text']\n",
    "        new_tweet['hashtags'] = get_hashtags(tweet['entities']['hashtags'])\n",
    "\n",
    "    user = {}\n",
    "    user['id'] = tweet['user']['id_str']\n",
    "    user['name'] = tweet['user']['name']\n",
    "    user['screen_name'] = tweet['user']['screen_name']\n",
    "    user['verified'] = tweet['user']['verified']\n",
    "    # updated\n",
    "    user['friends_count'] = tweet['user']['friends_count']\n",
    "    user['followers_count'] = tweet['user']['followers_count']\n",
    "    user['description'] = tweet['user']['description']\n",
    "    user['created_at'] = tweet['user']['created_at']\n",
    "    new_tweet['user'] = user\n",
    "\n",
    "    new_tweet['source'] = tweet['source']\n",
    "    new_tweet['quote_count'] = tweet['quote_count']\n",
    "    new_tweet['reply_count'] = tweet['reply_count']\n",
    "    new_tweet['retweet_count'] = tweet['retweet_count']\n",
    "    new_tweet['favorite_count'] = tweet['favorite_count']\n",
    "    \n",
    "    new_tweet['score'] = 3*tweet['retweet_count']\n",
    "    new_tweet['score'] += 3*tweet['reply_count']\n",
    "    new_tweet['score'] += 2*tweet['quote_count']\n",
    "    new_tweet['score'] += 2*tweet['favorite_count']\n",
    "    if tweet['user']['verified']:\n",
    "        new_tweet['score'] *= 2\n",
    "    \n",
    "    if 'retweeted_status' in tweet:\n",
    "        new_tweet['retweeted_status'] = process_tweet(tweet['retweeted_status'])\n",
    "        \n",
    "    new_tweet['is_quote_status'] = tweet['is_quote_status']\n",
    "    if tweet['is_quote_status'] and 'quoted_status' in tweet:\n",
    "        new_tweet['quoted_status'] = process_tweet(tweet['quoted_status'])\n",
    "    \n",
    "    return new_tweet\n",
    "        \n",
    "def add_tweet(tweet, tweet_type):\n",
    "    if (tweet['id_str'] not in tweets):\n",
    "        \n",
    "        new_tweet = process_tweet(tweet)\n",
    "        \n",
    "        if tweet_type=='tweet':\n",
    "            add_tweet_to_mongo(new_tweet)\n",
    "            tweets[tweet['id_str']] = new_tweet\n",
    "        elif tweet_type=='retweet':\n",
    "            add_retweet_to_mongo(new_tweet)\n",
    "            retweets[tweet['id_str']] = new_tweet\n",
    "#         elif tweet_type=='quote':\n",
    "#             quotes[tweet['id_str']] = new_tweet"
   ]
  },
  {
   "cell_type": "code",
   "execution_count": 10,
   "metadata": {},
   "outputs": [],
   "source": [
    "def process_data(data):\n",
    "    if data['id_str'] in tweets:\n",
    "        return\n",
    "    \n",
    "    add_user(data['user'])\n",
    "\n",
    "    if data['text'].startswith('RT'):\n",
    "        add_tweet(data, 'retweet')\n",
    "        if 'retweeted_status' in data:\n",
    "            process_data(data['retweeted_status'])\n",
    "\n",
    "    else:\n",
    "        add_tweet(data, 'tweet')"
   ]
  },
  {
   "cell_type": "code",
   "execution_count": 11,
   "metadata": {},
   "outputs": [],
   "source": [
    "users = {}\n",
    "tweets = {}\n",
    "retweets = {}\n",
    "quotes = {}\n",
    "\n",
    "for line in open(filename, 'r'):\n",
    "    if len(line.strip()) == 0:\n",
    "        continue\n",
    "        \n",
    "#     try:\n",
    "    data = json.loads(line)\n",
    "    process_data(data)\n",
    "\n",
    "#     except:\n",
    "#         continue"
   ]
  },
  {
   "cell_type": "code",
   "execution_count": 12,
   "metadata": {},
   "outputs": [
    {
     "data": {
      "text/plain": [
       "(50915, 61108, 88068, 0)"
      ]
     },
     "execution_count": 12,
     "metadata": {},
     "output_type": "execute_result"
    }
   ],
   "source": [
    "# (7349, 11157, 15505)\n",
    "# (10987, 11157, 18461)\n",
    "\n",
    "len(tweets), len(retweets), len(users), len(quotes)"
   ]
  },
  {
   "cell_type": "code",
   "execution_count": 13,
   "metadata": {},
   "outputs": [],
   "source": [
    "mconn.close()\n",
    "cursor.close()\n",
    "conn.close()"
   ]
  }
 ],
 "metadata": {
  "kernelspec": {
   "display_name": "Python 3",
   "language": "python",
   "name": "python3"
  },
  "language_info": {
   "codemirror_mode": {
    "name": "ipython",
    "version": 3
   },
   "file_extension": ".py",
   "mimetype": "text/x-python",
   "name": "python",
   "nbconvert_exporter": "python",
   "pygments_lexer": "ipython3",
   "version": "3.8.3"
  }
 },
 "nbformat": 4,
 "nbformat_minor": 5
}
