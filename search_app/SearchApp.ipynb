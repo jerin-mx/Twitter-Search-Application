{
 "cells": [
  {
   "cell_type": "code",
   "execution_count": 1,
   "id": "2dde986a",
   "metadata": {},
   "outputs": [],
   "source": [
    "from flask import Flask, render_template\n",
    "from flask_mysqldb import MySQL\n",
    "\n",
    "import requests\n",
    "import json"
   ]
  },
  {
   "cell_type": "code",
   "execution_count": 2,
   "id": "0c43de9f",
   "metadata": {},
   "outputs": [],
   "source": [
    "app = Flask(__name__)\n",
    "\n",
    "app.config[\"MYSQL_USER\"] = \"root\"\n",
    "app.config[\"MYSQL_PASSWORD\"] = \"root\"\n",
    "app.config[\"MYSQL_DB\"] = \"testdb\"\n",
    "\n",
    "mysql = MySQL(app)"
   ]
  },
  {
   "cell_type": "code",
   "execution_count": null,
   "id": "7517af20",
   "metadata": {},
   "outputs": [],
   "source": []
  },
  {
   "cell_type": "code",
   "execution_count": 3,
   "id": "b6adebf4",
   "metadata": {},
   "outputs": [],
   "source": [
    "def users():\n",
    "    cur = mysql.connection.cursor()\n",
    "    cur.execute(\"\"\"SELECT * FROM mytable\"\"\")\n",
    "    rv = cur.fetchall()\n",
    "    return str(rv)"
   ]
  },
  {
   "cell_type": "code",
   "execution_count": 4,
   "id": "18e7c0af",
   "metadata": {},
   "outputs": [],
   "source": [
    "@app.route(\"/\")\n",
    "def index():\n",
    "    return render_template('index.html')"
   ]
  },
  {
   "cell_type": "code",
   "execution_count": null,
   "id": "8de8ff98",
   "metadata": {},
   "outputs": [],
   "source": []
  },
  {
   "cell_type": "code",
   "execution_count": 5,
   "id": "c30e5a6f",
   "metadata": {
    "scrolled": true
   },
   "outputs": [
    {
     "name": "stdout",
     "output_type": "stream",
     "text": [
      " * Serving Flask app \"__main__\" (lazy loading)\n",
      " * Environment: production\n",
      "\u001b[31m   WARNING: This is a development server. Do not use it in a production deployment.\u001b[0m\n",
      "\u001b[2m   Use a production WSGI server instead.\u001b[0m\n",
      " * Debug mode: off\n"
     ]
    },
    {
     "name": "stderr",
     "output_type": "stream",
     "text": [
      " * Running on http://127.0.0.1:5000/ (Press CTRL+C to quit)\n",
      "127.0.0.1 - - [12/Apr/2023 16:56:40] \"GET / HTTP/1.1\" 200 -\n",
      "127.0.0.1 - - [12/Apr/2023 16:57:46] \"GET / HTTP/1.1\" 200 -\n"
     ]
    }
   ],
   "source": [
    "if __name__ == \"__main__\":\n",
    "    app.run()"
   ]
  },
  {
   "cell_type": "code",
   "execution_count": null,
   "id": "6bcdc93e",
   "metadata": {},
   "outputs": [],
   "source": []
  }
 ],
 "metadata": {
  "kernelspec": {
   "display_name": "Python 3 (ipykernel)",
   "language": "python",
   "name": "python3"
  },
  "language_info": {
   "codemirror_mode": {
    "name": "ipython",
    "version": 3
   },
   "file_extension": ".py",
   "mimetype": "text/x-python",
   "name": "python",
   "nbconvert_exporter": "python",
   "pygments_lexer": "ipython3",
   "version": "3.9.13"
  }
 },
 "nbformat": 4,
 "nbformat_minor": 5
}
