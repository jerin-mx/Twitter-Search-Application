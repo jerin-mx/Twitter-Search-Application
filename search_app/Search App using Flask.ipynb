{
 "cells": [
  {
   "cell_type": "code",
   "execution_count": 1,
   "metadata": {},
   "outputs": [],
   "source": [
    "from flask import Flask, render_template\n",
    "from flask_cors import CORS\n",
    "\n",
    "import json\n",
    "import os\n",
    "import time"
   ]
  },
  {
   "cell_type": "code",
   "execution_count": 2,
   "metadata": {},
   "outputs": [
    {
     "data": {
      "text/plain": [
       "<flask_cors.extension.CORS at 0x23f4def24c0>"
      ]
     },
     "execution_count": 2,
     "metadata": {},
     "output_type": "execute_result"
    }
   ],
   "source": [
    "app = Flask(__name__)\n",
    "\n",
    "CORS(app)"
   ]
  },
  {
   "cell_type": "code",
   "execution_count": 3,
   "metadata": {},
   "outputs": [],
   "source": [
    "@app.route(\"/\")\n",
    "def index():\n",
    "    return render_template('index.html')\n",
    "\n",
    "\n",
    "@app.route(\"/string/<word>/<stime>/<etime>\", methods=[\"GET\"])\n",
    "def string_tweet(word, stime, etime):\n",
    "    start_time = time.time()\n",
    "    inCache, res = get_from_cache('string', word)\n",
    "    if inCache:\n",
    "        print(\"time taken:\", time.time() - start_time)\n",
    "        return json.dumps(time_filter(res, stime, etime, time.time() - start_time))\n",
    "    \n",
    "    res = getTweetsbyString(word)\n",
    "    \n",
    "    add_to_cache('string', word, res)\n",
    "    print(\"time taken:\", time.time() - start_time)\n",
    "    return json.dumps(time_filter(res, stime, etime, time.time() - start_time))\n",
    "\n",
    "@app.route(\"/hashtag/<word>/<stime>/<etime>\", methods=[\"GET\"])\n",
    "def hashtag_tweet(word, stime, etime):\n",
    "    start_time = time.time()\n",
    "    inCache, res = get_from_cache('hashtag', word)\n",
    "    if inCache:\n",
    "        return json.dumps(time_filter(res, stime, etime, time.time() - start_time))\n",
    "        \n",
    "    res = getTweetsbyHashtag(word)\n",
    "    \n",
    "    add_to_cache('hashtag', word, res)\n",
    "    return json.dumps(time_filter(res, stime, etime, time.time() - start_time))\n",
    "\n",
    "@app.route(\"/user/<word>/<stime>/<etime>\", methods=[\"GET\"])\n",
    "def user_tweet(word, stime, etime):\n",
    "    start_time = time.time()\n",
    "    inCache, res = get_from_cache('user', word)\n",
    "    if inCache:\n",
    "        return json.dumps(time_filter(res, stime, etime, time.time() - start_time))\n",
    "        \n",
    "    usr_lst = getUserByWord(word)\n",
    "    id_lst = extract_val('id', usr_lst)\n",
    "    res = getTweetsbyUserIDsList(id_lst)\n",
    "    \n",
    "    add_to_cache('user', word, res)\n",
    "    return json.dumps(time_filter(res, stime, etime, time.time() - start_time))\n",
    "\n",
    "\n",
    "@app.route(\"/author/<id>\", methods=[\"GET\"])\n",
    "def get_author(id):\n",
    "    start_time = time.time()\n",
    "    inCache, res = get_from_cache('author', id)\n",
    "    if inCache:\n",
    "        return json.dumps({'data': res, 'fetch_time': time.time() - start_time })\n",
    "    \n",
    "    res = getUserByID(id)\n",
    "    res['tweets'] = getTweetsbyUserID(id)\n",
    "    res['retweets'] = getRetweetsbyUserID(id)\n",
    "    \n",
    "    add_to_cache('author', id, res)\n",
    "    return json.dumps({'data': res, 'fetch_time': time.time() - start_time })\n",
    "\n",
    "@app.route(\"/retweet/<id>\", methods=[\"GET\"])\n",
    "def get_retweets(id):\n",
    "    start_time = time.time()\n",
    "    inCache, res = get_from_cache('retweet', id)\n",
    "    if inCache:\n",
    "        return json.dumps({'data': res, 'fetch_time': time.time() - start_time })\n",
    "    \n",
    "    res = getTweetbyID(id)\n",
    "    res['retweets'] = getRetweetsByOriginalTweetID(id)\n",
    "    \n",
    "    add_to_cache('retweet', id, res)\n",
    "    return json.dumps({'data': res, 'fetch_time': time.time() - start_time })\n",
    "\n",
    "\n",
    "@app.route(\"/metric\", methods=[\"GET\"])\n",
    "def get_metric():\n",
    "    start_time = time.time()\n",
    "    inCache, res = get_from_cache('metric', 'all')\n",
    "    if inCache:\n",
    "        return json.dumps({'data': res, 'fetch_time': time.time() - start_time })\n",
    "\n",
    "    users = get_top_users()\n",
    "    tweets = get_top_tweets()\n",
    "#     users = u_temp\n",
    "#     tweets = t_temp\n",
    "    \n",
    "    res = [users, tweets]\n",
    "    \n",
    "    add_to_cache('metric', 'all', res)\n",
    "    return json.dumps({'data': res, 'fetch_time': time.time() - start_time })"
   ]
  },
  {
   "cell_type": "code",
   "execution_count": null,
   "metadata": {},
   "outputs": [
    {
     "name": "stdout",
     "output_type": "stream",
     "text": [
      " * Serving Flask app \"__main__\" (lazy loading)\n",
      " * Environment: production\n",
      "\u001b[31m   WARNING: This is a development server. Do not use it in a production deployment.\u001b[0m\n",
      "\u001b[2m   Use a production WSGI server instead.\u001b[0m\n",
      " * Debug mode: off\n"
     ]
    },
    {
     "name": "stderr",
     "output_type": "stream",
     "text": [
      " * Running on http://127.0.0.1:5000/ (Press CTRL+C to quit)\n"
     ]
    }
   ],
   "source": [
    "if __name__ == \"__main__\":\n",
    "    app.run()"
   ]
  },
  {
   "cell_type": "code",
   "execution_count": null,
   "metadata": {},
   "outputs": [],
   "source": []
  }
 ],
 "metadata": {
  "kernelspec": {
   "display_name": "Python 3",
   "language": "python",
   "name": "python3"
  },
  "language_info": {
   "codemirror_mode": {
    "name": "ipython",
    "version": 3
   },
   "file_extension": ".py",
   "mimetype": "text/x-python",
   "name": "python",
   "nbconvert_exporter": "python",
   "pygments_lexer": "ipython3",
   "version": "3.8.3"
  }
 },
 "nbformat": 4,
 "nbformat_minor": 4
}
