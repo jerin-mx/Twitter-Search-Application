{
 "cells": [
  {
   "cell_type": "code",
   "execution_count": 1,
   "metadata": {},
   "outputs": [],
   "source": [
    "cache_file_name = 'cache.json'\n",
    "max_cache_size = 50\n",
    "\n",
    "def read_cache():\n",
    "    cache = {'string': {}, 'hashtag': {}, 'user': {}, 'author': {}, 'retweet': {} }\n",
    "    \n",
    "    if os.path.exists(cache_file_name):\n",
    "#         try:\n",
    "        with open(cache_file_name, 'r') as file:\n",
    "            cache = json.load(file)\n",
    "#         except:\n",
    "#             cache = {'string': {}, 'hashtag': {}, 'user': {}, 'author': {}, 'retweet': {} }\n",
    "    return cache\n",
    "        \n",
    "def write_cache(cache):\n",
    "    with open(cache_file_name, 'w') as file:  \n",
    "        json.dump(cache, file)\n",
    "\n",
    "def clear_cache():\n",
    "    cache = {'string': {}, 'hashtag': {}, 'user': {}, 'author': {}, 'retweet': {} }\n",
    "    if os.path.exists(cache_file_name):\n",
    "        os.remove(cache_file_name)\n",
    "    return cache\n",
    "\n",
    "def cache_print():\n",
    "    for key in cache.keys():\n",
    "        print(key)\n",
    "        print(list(cache[key].keys()))\n",
    "        print()\n",
    "\n",
    "\n",
    "def get_from_cache(cache_type, word):\n",
    "    if word in cache[cache_type].keys():\n",
    "        return True, cache[cache_type][word]\n",
    "    return False, None\n",
    "\n",
    "def add_to_cache(cache_type, word, value):\n",
    "    if len(cache[cache_type]) >= max_cache_size:\n",
    "        cache[cache_type].pop( next(iter(cache[cache_type])) )\n",
    "    cache[cache_type][word] = value\n",
    "    write_cache(cache)"
   ]
  },
  {
   "cell_type": "code",
   "execution_count": null,
   "metadata": {},
   "outputs": [],
   "source": []
  }
 ],
 "metadata": {
  "kernelspec": {
   "display_name": "Python 3",
   "language": "python",
   "name": "python3"
  },
  "language_info": {
   "codemirror_mode": {
    "name": "ipython",
    "version": 3
   },
   "file_extension": ".py",
   "mimetype": "text/x-python",
   "name": "python",
   "nbconvert_exporter": "python",
   "pygments_lexer": "ipython3",
   "version": "3.8.3"
  }
 },
 "nbformat": 4,
 "nbformat_minor": 4
}
